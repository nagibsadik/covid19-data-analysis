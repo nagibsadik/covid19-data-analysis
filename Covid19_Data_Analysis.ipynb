{
 "cells": [
  {
   "cell_type": "code",
   "execution_count": 1,
   "id": "3ac17234",
   "metadata": {},
   "outputs": [],
   "source": [
    "import pandas as pd\n",
    "import seaborn as sns\n",
    "import matplotlib.pyplot as plt"
   ]
  },
  {
   "cell_type": "code",
   "execution_count": 2,
   "id": "f86120ca",
   "metadata": {},
   "outputs": [],
   "source": [
    "df = pd.read_json('https://www.mohfw.gov.in/data/datanew.json') # Fetching the data with jupyter notebook"
   ]
  },
  {
   "cell_type": "code",
   "execution_count": 3,
   "id": "cdfa9fa6",
   "metadata": {},
   "outputs": [
    {
     "data": {
      "text/html": [
       "<div>\n",
       "<style scoped>\n",
       "    .dataframe tbody tr th:only-of-type {\n",
       "        vertical-align: middle;\n",
       "    }\n",
       "\n",
       "    .dataframe tbody tr th {\n",
       "        vertical-align: top;\n",
       "    }\n",
       "\n",
       "    .dataframe thead th {\n",
       "        text-align: right;\n",
       "    }\n",
       "</style>\n",
       "<table border=\"1\" class=\"dataframe\">\n",
       "  <thead>\n",
       "    <tr style=\"text-align: right;\">\n",
       "      <th></th>\n",
       "      <th>sno</th>\n",
       "      <th>state_name</th>\n",
       "      <th>active</th>\n",
       "      <th>positive</th>\n",
       "      <th>cured</th>\n",
       "      <th>death</th>\n",
       "      <th>new_active</th>\n",
       "      <th>new_positive</th>\n",
       "      <th>new_cured</th>\n",
       "      <th>new_death</th>\n",
       "      <th>death_reconsille</th>\n",
       "      <th>total</th>\n",
       "      <th>state_code</th>\n",
       "    </tr>\n",
       "  </thead>\n",
       "  <tbody>\n",
       "    <tr>\n",
       "      <th>0</th>\n",
       "      <td>2</td>\n",
       "      <td>Andaman and Nicobar Islands</td>\n",
       "      <td>471</td>\n",
       "      <td>8538</td>\n",
       "      <td>7938</td>\n",
       "      <td>129</td>\n",
       "      <td>463</td>\n",
       "      <td>8581</td>\n",
       "      <td>7989</td>\n",
       "      <td>129</td>\n",
       "      <td></td>\n",
       "      <td></td>\n",
       "      <td>35</td>\n",
       "    </tr>\n",
       "    <tr>\n",
       "      <th>1</th>\n",
       "      <td>1</td>\n",
       "      <td>Andhra Pradesh</td>\n",
       "      <td>18313</td>\n",
       "      <td>2096755</td>\n",
       "      <td>2063934</td>\n",
       "      <td>14508</td>\n",
       "      <td>22870</td>\n",
       "      <td>2101710</td>\n",
       "      <td>2064331</td>\n",
       "      <td>14509</td>\n",
       "      <td></td>\n",
       "      <td>1</td>\n",
       "      <td>28</td>\n",
       "    </tr>\n",
       "    <tr>\n",
       "      <th>2</th>\n",
       "      <td>3</td>\n",
       "      <td>Arunachal Pradesh</td>\n",
       "      <td>837</td>\n",
       "      <td>56227</td>\n",
       "      <td>55108</td>\n",
       "      <td>282</td>\n",
       "      <td>1070</td>\n",
       "      <td>56493</td>\n",
       "      <td>55141</td>\n",
       "      <td>282</td>\n",
       "      <td></td>\n",
       "      <td></td>\n",
       "      <td>12</td>\n",
       "    </tr>\n",
       "    <tr>\n",
       "      <th>3</th>\n",
       "      <td>4</td>\n",
       "      <td>Assam</td>\n",
       "      <td>16614</td>\n",
       "      <td>640636</td>\n",
       "      <td>617825</td>\n",
       "      <td>6197</td>\n",
       "      <td>19124</td>\n",
       "      <td>644026</td>\n",
       "      <td>618701</td>\n",
       "      <td>6201</td>\n",
       "      <td></td>\n",
       "      <td>4</td>\n",
       "      <td>18</td>\n",
       "    </tr>\n",
       "    <tr>\n",
       "      <th>4</th>\n",
       "      <td>5</td>\n",
       "      <td>Bihar</td>\n",
       "      <td>34085</td>\n",
       "      <td>775392</td>\n",
       "      <td>729184</td>\n",
       "      <td>12123</td>\n",
       "      <td>35917</td>\n",
       "      <td>781717</td>\n",
       "      <td>733673</td>\n",
       "      <td>12127</td>\n",
       "      <td></td>\n",
       "      <td>4</td>\n",
       "      <td>10</td>\n",
       "    </tr>\n",
       "  </tbody>\n",
       "</table>\n",
       "</div>"
      ],
      "text/plain": [
       "   sno                   state_name  active  positive    cured  death  \\\n",
       "0    2  Andaman and Nicobar Islands     471      8538     7938    129   \n",
       "1    1               Andhra Pradesh   18313   2096755  2063934  14508   \n",
       "2    3            Arunachal Pradesh     837     56227    55108    282   \n",
       "3    4                        Assam   16614    640636   617825   6197   \n",
       "4    5                        Bihar   34085    775392   729184  12123   \n",
       "\n",
       "   new_active  new_positive  new_cured  new_death death_reconsille total  \\\n",
       "0         463          8581       7989        129                          \n",
       "1       22870       2101710    2064331      14509                      1   \n",
       "2        1070         56493      55141        282                          \n",
       "3       19124        644026     618701       6201                      4   \n",
       "4       35917        781717     733673      12127                      4   \n",
       "\n",
       "  state_code  \n",
       "0         35  \n",
       "1         28  \n",
       "2         12  \n",
       "3         18  \n",
       "4         10  "
      ]
     },
     "execution_count": 3,
     "metadata": {},
     "output_type": "execute_result"
    }
   ],
   "source": [
    "df.head() \n",
    "# Getting to know the data\n",
    "# The data format is live(it gets updated everyday)"
   ]
  },
  {
   "cell_type": "code",
   "execution_count": 4,
   "id": "d62f0c0b",
   "metadata": {},
   "outputs": [
    {
     "data": {
      "text/plain": [
       "(37, 13)"
      ]
     },
     "execution_count": 4,
     "metadata": {},
     "output_type": "execute_result"
    }
   ],
   "source": [
    "df.shape #this data has 37 rows and 13 columns"
   ]
  },
  {
   "cell_type": "code",
   "execution_count": 5,
   "id": "550c08e4",
   "metadata": {},
   "outputs": [
    {
     "data": {
      "text/plain": [
       "sno                 0\n",
       "state_name          0\n",
       "active              0\n",
       "positive            0\n",
       "cured               0\n",
       "death               0\n",
       "new_active          0\n",
       "new_positive        0\n",
       "new_cured           0\n",
       "new_death           0\n",
       "death_reconsille    0\n",
       "total               0\n",
       "state_code          0\n",
       "dtype: int64"
      ]
     },
     "execution_count": 5,
     "metadata": {},
     "output_type": "execute_result"
    }
   ],
   "source": [
    "df.isnull().sum() # check the null values"
   ]
  },
  {
   "cell_type": "code",
   "execution_count": 7,
   "id": "91945c7d",
   "metadata": {},
   "outputs": [
    {
     "name": "stdout",
     "output_type": "stream",
     "text": [
      "<class 'pandas.core.frame.DataFrame'>\n",
      "RangeIndex: 37 entries, 0 to 36\n",
      "Data columns (total 13 columns):\n",
      " #   Column            Non-Null Count  Dtype \n",
      "---  ------            --------------  ----- \n",
      " 0   sno               37 non-null     int64 \n",
      " 1   state_name        37 non-null     object\n",
      " 2   active            37 non-null     int64 \n",
      " 3   positive          37 non-null     int64 \n",
      " 4   cured             37 non-null     int64 \n",
      " 5   death             37 non-null     int64 \n",
      " 6   new_active        37 non-null     int64 \n",
      " 7   new_positive      37 non-null     int64 \n",
      " 8   new_cured         37 non-null     int64 \n",
      " 9   new_death         37 non-null     int64 \n",
      " 10  death_reconsille  37 non-null     object\n",
      " 11  total             37 non-null     object\n",
      " 12  state_code        37 non-null     object\n",
      "dtypes: int64(9), object(4)\n",
      "memory usage: 3.9+ KB\n"
     ]
    }
   ],
   "source": [
    "df.info()"
   ]
  },
  {
   "cell_type": "code",
   "execution_count": 8,
   "id": "84051c10",
   "metadata": {},
   "outputs": [
    {
     "data": {
      "text/html": [
       "<div>\n",
       "<style scoped>\n",
       "    .dataframe tbody tr th:only-of-type {\n",
       "        vertical-align: middle;\n",
       "    }\n",
       "\n",
       "    .dataframe tbody tr th {\n",
       "        vertical-align: top;\n",
       "    }\n",
       "\n",
       "    .dataframe thead th {\n",
       "        text-align: right;\n",
       "    }\n",
       "</style>\n",
       "<table border=\"1\" class=\"dataframe\">\n",
       "  <thead>\n",
       "    <tr style=\"text-align: right;\">\n",
       "      <th></th>\n",
       "      <th>sno</th>\n",
       "      <th>active</th>\n",
       "      <th>positive</th>\n",
       "      <th>cured</th>\n",
       "      <th>death</th>\n",
       "      <th>new_active</th>\n",
       "      <th>new_positive</th>\n",
       "      <th>new_cured</th>\n",
       "      <th>new_death</th>\n",
       "    </tr>\n",
       "  </thead>\n",
       "  <tbody>\n",
       "    <tr>\n",
       "      <th>count</th>\n",
       "      <td>37.000000</td>\n",
       "      <td>3.700000e+01</td>\n",
       "      <td>3.700000e+01</td>\n",
       "      <td>3.700000e+01</td>\n",
       "      <td>37.000000</td>\n",
       "      <td>3.700000e+01</td>\n",
       "      <td>3.700000e+01</td>\n",
       "      <td>3.700000e+01</td>\n",
       "      <td>37.000000</td>\n",
       "    </tr>\n",
       "    <tr>\n",
       "      <th>mean</th>\n",
       "      <td>319.054054</td>\n",
       "      <td>7.663892e+04</td>\n",
       "      <td>1.991944e+06</td>\n",
       "      <td>1.889048e+06</td>\n",
       "      <td>26261.675676</td>\n",
       "      <td>8.380416e+04</td>\n",
       "      <td>2.006603e+06</td>\n",
       "      <td>1.896525e+06</td>\n",
       "      <td>26273.837838</td>\n",
       "    </tr>\n",
       "    <tr>\n",
       "      <th>std</th>\n",
       "      <td>1823.499245</td>\n",
       "      <td>2.331594e+05</td>\n",
       "      <td>6.079991e+06</td>\n",
       "      <td>5.767680e+06</td>\n",
       "      <td>81493.592628</td>\n",
       "      <td>2.545473e+05</td>\n",
       "      <td>6.124244e+06</td>\n",
       "      <td>5.790561e+06</td>\n",
       "      <td>81529.329199</td>\n",
       "    </tr>\n",
       "    <tr>\n",
       "      <th>min</th>\n",
       "      <td>1.000000</td>\n",
       "      <td>3.700000e+01</td>\n",
       "      <td>8.538000e+03</td>\n",
       "      <td>7.938000e+03</td>\n",
       "      <td>4.000000</td>\n",
       "      <td>6.000000e+01</td>\n",
       "      <td>8.581000e+03</td>\n",
       "      <td>7.989000e+03</td>\n",
       "      <td>4.000000</td>\n",
       "    </tr>\n",
       "    <tr>\n",
       "      <th>25%</th>\n",
       "      <td>11.000000</td>\n",
       "      <td>4.132000e+03</td>\n",
       "      <td>8.976700e+04</td>\n",
       "      <td>8.480000e+04</td>\n",
       "      <td>1086.000000</td>\n",
       "      <td>5.106000e+03</td>\n",
       "      <td>9.093500e+04</td>\n",
       "      <td>8.499100e+04</td>\n",
       "      <td>1086.000000</td>\n",
       "    </tr>\n",
       "    <tr>\n",
       "      <th>50%</th>\n",
       "      <td>20.000000</td>\n",
       "      <td>1.859700e+04</td>\n",
       "      <td>6.406360e+05</td>\n",
       "      <td>5.987020e+05</td>\n",
       "      <td>6197.000000</td>\n",
       "      <td>2.201700e+04</td>\n",
       "      <td>6.440260e+05</td>\n",
       "      <td>6.022490e+05</td>\n",
       "      <td>6201.000000</td>\n",
       "    </tr>\n",
       "    <tr>\n",
       "      <th>75%</th>\n",
       "      <td>29.000000</td>\n",
       "      <td>5.277300e+04</td>\n",
       "      <td>1.111879e+06</td>\n",
       "      <td>1.052395e+06</td>\n",
       "      <td>14508.000000</td>\n",
       "      <td>5.864200e+04</td>\n",
       "      <td>1.122735e+06</td>\n",
       "      <td>1.055615e+06</td>\n",
       "      <td>14509.000000</td>\n",
       "    </tr>\n",
       "    <tr>\n",
       "      <th>max</th>\n",
       "      <td>11111.000000</td>\n",
       "      <td>1.417820e+06</td>\n",
       "      <td>3.685096e+07</td>\n",
       "      <td>3.494739e+07</td>\n",
       "      <td>485841.000000</td>\n",
       "      <td>1.550377e+06</td>\n",
       "      <td>3.712216e+07</td>\n",
       "      <td>3.508572e+07</td>\n",
       "      <td>486066.000000</td>\n",
       "    </tr>\n",
       "  </tbody>\n",
       "</table>\n",
       "</div>"
      ],
      "text/plain": [
       "                sno        active      positive         cured          death  \\\n",
       "count     37.000000  3.700000e+01  3.700000e+01  3.700000e+01      37.000000   \n",
       "mean     319.054054  7.663892e+04  1.991944e+06  1.889048e+06   26261.675676   \n",
       "std     1823.499245  2.331594e+05  6.079991e+06  5.767680e+06   81493.592628   \n",
       "min        1.000000  3.700000e+01  8.538000e+03  7.938000e+03       4.000000   \n",
       "25%       11.000000  4.132000e+03  8.976700e+04  8.480000e+04    1086.000000   \n",
       "50%       20.000000  1.859700e+04  6.406360e+05  5.987020e+05    6197.000000   \n",
       "75%       29.000000  5.277300e+04  1.111879e+06  1.052395e+06   14508.000000   \n",
       "max    11111.000000  1.417820e+06  3.685096e+07  3.494739e+07  485841.000000   \n",
       "\n",
       "         new_active  new_positive     new_cured      new_death  \n",
       "count  3.700000e+01  3.700000e+01  3.700000e+01      37.000000  \n",
       "mean   8.380416e+04  2.006603e+06  1.896525e+06   26273.837838  \n",
       "std    2.545473e+05  6.124244e+06  5.790561e+06   81529.329199  \n",
       "min    6.000000e+01  8.581000e+03  7.989000e+03       4.000000  \n",
       "25%    5.106000e+03  9.093500e+04  8.499100e+04    1086.000000  \n",
       "50%    2.201700e+04  6.440260e+05  6.022490e+05    6201.000000  \n",
       "75%    5.864200e+04  1.122735e+06  1.055615e+06   14509.000000  \n",
       "max    1.550377e+06  3.712216e+07  3.508572e+07  486066.000000  "
      ]
     },
     "execution_count": 8,
     "metadata": {},
     "output_type": "execute_result"
    }
   ],
   "source": [
    "df.describe() # Learn about the numerical values ( deep dive in the numberss)"
   ]
  },
  {
   "cell_type": "code",
   "execution_count": 9,
   "id": "51c083c7",
   "metadata": {},
   "outputs": [
    {
     "data": {
      "text/plain": [
       "Index(['sno', 'state_name', 'active', 'positive', 'cured', 'death',\n",
       "       'new_active', 'new_positive', 'new_cured', 'new_death',\n",
       "       'death_reconsille', 'total', 'state_code'],\n",
       "      dtype='object')"
      ]
     },
     "execution_count": 9,
     "metadata": {},
     "output_type": "execute_result"
    }
   ],
   "source": [
    "df.columns # see the column names"
   ]
  },
  {
   "cell_type": "code",
   "execution_count": 10,
   "id": "3f03ffd9",
   "metadata": {},
   "outputs": [
    {
     "data": {
      "text/html": [
       "<div>\n",
       "<style scoped>\n",
       "    .dataframe tbody tr th:only-of-type {\n",
       "        vertical-align: middle;\n",
       "    }\n",
       "\n",
       "    .dataframe tbody tr th {\n",
       "        vertical-align: top;\n",
       "    }\n",
       "\n",
       "    .dataframe thead th {\n",
       "        text-align: right;\n",
       "    }\n",
       "</style>\n",
       "<table border=\"1\" class=\"dataframe\">\n",
       "  <thead>\n",
       "    <tr style=\"text-align: right;\">\n",
       "      <th></th>\n",
       "      <th>sno</th>\n",
       "      <th>state_name</th>\n",
       "      <th>active</th>\n",
       "      <th>positive</th>\n",
       "      <th>cured</th>\n",
       "      <th>death</th>\n",
       "      <th>new_active</th>\n",
       "      <th>new_positive</th>\n",
       "      <th>new_cured</th>\n",
       "      <th>new_death</th>\n",
       "      <th>death_reconsille</th>\n",
       "      <th>total</th>\n",
       "      <th>state_code</th>\n",
       "    </tr>\n",
       "  </thead>\n",
       "  <tbody>\n",
       "    <tr>\n",
       "      <th>32</th>\n",
       "      <td>33</td>\n",
       "      <td>Tripura</td>\n",
       "      <td>4132</td>\n",
       "      <td>89767</td>\n",
       "      <td>84800</td>\n",
       "      <td>835</td>\n",
       "      <td>5106</td>\n",
       "      <td>90935</td>\n",
       "      <td>84991</td>\n",
       "      <td>838</td>\n",
       "      <td></td>\n",
       "      <td>3</td>\n",
       "      <td>16</td>\n",
       "    </tr>\n",
       "    <tr>\n",
       "      <th>33</th>\n",
       "      <td>35</td>\n",
       "      <td>Uttarakhand</td>\n",
       "      <td>12349</td>\n",
       "      <td>363424</td>\n",
       "      <td>343637</td>\n",
       "      <td>7438</td>\n",
       "      <td>14892</td>\n",
       "      <td>367272</td>\n",
       "      <td>344940</td>\n",
       "      <td>7440</td>\n",
       "      <td></td>\n",
       "      <td>2</td>\n",
       "      <td>05</td>\n",
       "    </tr>\n",
       "    <tr>\n",
       "      <th>34</th>\n",
       "      <td>36</td>\n",
       "      <td>Uttar Pradesh</td>\n",
       "      <td>84440</td>\n",
       "      <td>1801231</td>\n",
       "      <td>1693842</td>\n",
       "      <td>22949</td>\n",
       "      <td>95148</td>\n",
       "      <td>1816974</td>\n",
       "      <td>1698873</td>\n",
       "      <td>22953</td>\n",
       "      <td></td>\n",
       "      <td>4</td>\n",
       "      <td>09</td>\n",
       "    </tr>\n",
       "    <tr>\n",
       "      <th>35</th>\n",
       "      <td>37</td>\n",
       "      <td>West Bengal</td>\n",
       "      <td>145483</td>\n",
       "      <td>1863697</td>\n",
       "      <td>1698201</td>\n",
       "      <td>20013</td>\n",
       "      <td>155376</td>\n",
       "      <td>1882761</td>\n",
       "      <td>1707333</td>\n",
       "      <td>20052</td>\n",
       "      <td></td>\n",
       "      <td>39</td>\n",
       "      <td>19</td>\n",
       "    </tr>\n",
       "    <tr>\n",
       "      <th>36</th>\n",
       "      <td>11111</td>\n",
       "      <td></td>\n",
       "      <td>1417820</td>\n",
       "      <td>36850962</td>\n",
       "      <td>34947390</td>\n",
       "      <td>485841</td>\n",
       "      <td>1550377</td>\n",
       "      <td>37122164</td>\n",
       "      <td>35085721</td>\n",
       "      <td>486066</td>\n",
       "      <td>89</td>\n",
       "      <td>314</td>\n",
       "      <td></td>\n",
       "    </tr>\n",
       "  </tbody>\n",
       "</table>\n",
       "</div>"
      ],
      "text/plain": [
       "      sno     state_name   active  positive     cured   death  new_active  \\\n",
       "32     33        Tripura     4132     89767     84800     835        5106   \n",
       "33     35    Uttarakhand    12349    363424    343637    7438       14892   \n",
       "34     36  Uttar Pradesh    84440   1801231   1693842   22949       95148   \n",
       "35     37    West Bengal   145483   1863697   1698201   20013      155376   \n",
       "36  11111                 1417820  36850962  34947390  485841     1550377   \n",
       "\n",
       "    new_positive  new_cured  new_death death_reconsille total state_code  \n",
       "32         90935      84991        838                      3         16  \n",
       "33        367272     344940       7440                      2         05  \n",
       "34       1816974    1698873      22953                      4         09  \n",
       "35       1882761    1707333      20052                     39         19  \n",
       "36      37122164   35085721     486066               89   314             "
      ]
     },
     "execution_count": 10,
     "metadata": {},
     "output_type": "execute_result"
    }
   ],
   "source": [
    "df.tail()"
   ]
  },
  {
   "cell_type": "code",
   "execution_count": 11,
   "id": "4c3a829a",
   "metadata": {},
   "outputs": [],
   "source": [
    "df=df.iloc[:36] # creating a new variable cuz 36th row doesnt have state name"
   ]
  },
  {
   "cell_type": "code",
   "execution_count": 12,
   "id": "9e2ca084",
   "metadata": {},
   "outputs": [
    {
     "data": {
      "text/html": [
       "<div>\n",
       "<style scoped>\n",
       "    .dataframe tbody tr th:only-of-type {\n",
       "        vertical-align: middle;\n",
       "    }\n",
       "\n",
       "    .dataframe tbody tr th {\n",
       "        vertical-align: top;\n",
       "    }\n",
       "\n",
       "    .dataframe thead th {\n",
       "        text-align: right;\n",
       "    }\n",
       "</style>\n",
       "<table border=\"1\" class=\"dataframe\">\n",
       "  <thead>\n",
       "    <tr style=\"text-align: right;\">\n",
       "      <th></th>\n",
       "      <th>sno</th>\n",
       "      <th>state_name</th>\n",
       "      <th>active</th>\n",
       "      <th>positive</th>\n",
       "      <th>cured</th>\n",
       "      <th>death</th>\n",
       "      <th>new_active</th>\n",
       "      <th>new_positive</th>\n",
       "      <th>new_cured</th>\n",
       "      <th>new_death</th>\n",
       "      <th>death_reconsille</th>\n",
       "      <th>total</th>\n",
       "      <th>state_code</th>\n",
       "    </tr>\n",
       "  </thead>\n",
       "  <tbody>\n",
       "    <tr>\n",
       "      <th>31</th>\n",
       "      <td>34</td>\n",
       "      <td>Telangana</td>\n",
       "      <td>21676</td>\n",
       "      <td>705199</td>\n",
       "      <td>679471</td>\n",
       "      <td>4052</td>\n",
       "      <td>22017</td>\n",
       "      <td>707162</td>\n",
       "      <td>681091</td>\n",
       "      <td>4054</td>\n",
       "      <td></td>\n",
       "      <td>2</td>\n",
       "      <td>36</td>\n",
       "    </tr>\n",
       "    <tr>\n",
       "      <th>32</th>\n",
       "      <td>33</td>\n",
       "      <td>Tripura</td>\n",
       "      <td>4132</td>\n",
       "      <td>89767</td>\n",
       "      <td>84800</td>\n",
       "      <td>835</td>\n",
       "      <td>5106</td>\n",
       "      <td>90935</td>\n",
       "      <td>84991</td>\n",
       "      <td>838</td>\n",
       "      <td></td>\n",
       "      <td>3</td>\n",
       "      <td>16</td>\n",
       "    </tr>\n",
       "    <tr>\n",
       "      <th>33</th>\n",
       "      <td>35</td>\n",
       "      <td>Uttarakhand</td>\n",
       "      <td>12349</td>\n",
       "      <td>363424</td>\n",
       "      <td>343637</td>\n",
       "      <td>7438</td>\n",
       "      <td>14892</td>\n",
       "      <td>367272</td>\n",
       "      <td>344940</td>\n",
       "      <td>7440</td>\n",
       "      <td></td>\n",
       "      <td>2</td>\n",
       "      <td>05</td>\n",
       "    </tr>\n",
       "    <tr>\n",
       "      <th>34</th>\n",
       "      <td>36</td>\n",
       "      <td>Uttar Pradesh</td>\n",
       "      <td>84440</td>\n",
       "      <td>1801231</td>\n",
       "      <td>1693842</td>\n",
       "      <td>22949</td>\n",
       "      <td>95148</td>\n",
       "      <td>1816974</td>\n",
       "      <td>1698873</td>\n",
       "      <td>22953</td>\n",
       "      <td></td>\n",
       "      <td>4</td>\n",
       "      <td>09</td>\n",
       "    </tr>\n",
       "    <tr>\n",
       "      <th>35</th>\n",
       "      <td>37</td>\n",
       "      <td>West Bengal</td>\n",
       "      <td>145483</td>\n",
       "      <td>1863697</td>\n",
       "      <td>1698201</td>\n",
       "      <td>20013</td>\n",
       "      <td>155376</td>\n",
       "      <td>1882761</td>\n",
       "      <td>1707333</td>\n",
       "      <td>20052</td>\n",
       "      <td></td>\n",
       "      <td>39</td>\n",
       "      <td>19</td>\n",
       "    </tr>\n",
       "  </tbody>\n",
       "</table>\n",
       "</div>"
      ],
      "text/plain": [
       "    sno     state_name  active  positive    cured  death  new_active  \\\n",
       "31   34      Telangana   21676    705199   679471   4052       22017   \n",
       "32   33        Tripura    4132     89767    84800    835        5106   \n",
       "33   35    Uttarakhand   12349    363424   343637   7438       14892   \n",
       "34   36  Uttar Pradesh   84440   1801231  1693842  22949       95148   \n",
       "35   37    West Bengal  145483   1863697  1698201  20013      155376   \n",
       "\n",
       "    new_positive  new_cured  new_death death_reconsille total state_code  \n",
       "31        707162     681091       4054                      2         36  \n",
       "32         90935      84991        838                      3         16  \n",
       "33        367272     344940       7440                      2         05  \n",
       "34       1816974    1698873      22953                      4         09  \n",
       "35       1882761    1707333      20052                     39         19  "
      ]
     },
     "execution_count": 12,
     "metadata": {},
     "output_type": "execute_result"
    }
   ],
   "source": [
    "df.tail() # got rid of the last row"
   ]
  },
  {
   "cell_type": "code",
   "execution_count": 13,
   "id": "7758221a",
   "metadata": {},
   "outputs": [
    {
     "data": {
      "text/plain": [
       "1417820"
      ]
     },
     "execution_count": 13,
     "metadata": {},
     "output_type": "execute_result"
    }
   ],
   "source": [
    "df['active'].sum(axis=0) # sum of active cases"
   ]
  },
  {
   "cell_type": "code",
   "execution_count": 14,
   "id": "0da52eff",
   "metadata": {},
   "outputs": [
    {
     "data": {
      "text/plain": [
       "36850962"
      ]
     },
     "execution_count": 14,
     "metadata": {},
     "output_type": "execute_result"
    }
   ],
   "source": [
    "df['positive'].sum(axis=0) # sum of positive cases"
   ]
  },
  {
   "cell_type": "code",
   "execution_count": 15,
   "id": "96f3bbea",
   "metadata": {},
   "outputs": [
    {
     "data": {
      "text/plain": [
       "34947390"
      ]
     },
     "execution_count": 15,
     "metadata": {},
     "output_type": "execute_result"
    }
   ],
   "source": [
    "df['cured'].sum(axis=0) "
   ]
  },
  {
   "cell_type": "code",
   "execution_count": 16,
   "id": "5fe7d359",
   "metadata": {},
   "outputs": [
    {
     "data": {
      "text/plain": [
       "485841"
      ]
     },
     "execution_count": 16,
     "metadata": {},
     "output_type": "execute_result"
    }
   ],
   "source": [
    "df['death'].sum(axis=0)"
   ]
  },
  {
   "cell_type": "code",
   "execution_count": 17,
   "id": "ab885ffe",
   "metadata": {},
   "outputs": [
    {
     "data": {
      "text/plain": [
       "1550377"
      ]
     },
     "execution_count": 17,
     "metadata": {},
     "output_type": "execute_result"
    }
   ],
   "source": [
    "df['new_active'].sum(axis=0)"
   ]
  },
  {
   "cell_type": "code",
   "execution_count": 18,
   "id": "6c10efb8",
   "metadata": {},
   "outputs": [
    {
     "data": {
      "text/plain": [
       "37122164"
      ]
     },
     "execution_count": 18,
     "metadata": {},
     "output_type": "execute_result"
    }
   ],
   "source": [
    "df['new_positive'].sum(axis=0)"
   ]
  },
  {
   "cell_type": "code",
   "execution_count": 19,
   "id": "f572fcc6",
   "metadata": {},
   "outputs": [
    {
     "data": {
      "text/plain": [
       "35085721"
      ]
     },
     "execution_count": 19,
     "metadata": {},
     "output_type": "execute_result"
    }
   ],
   "source": [
    "df['new_cured'].sum(axis=0)"
   ]
  },
  {
   "cell_type": "code",
   "execution_count": 20,
   "id": "69f429ac",
   "metadata": {},
   "outputs": [
    {
     "data": {
      "text/plain": [
       "486066"
      ]
     },
     "execution_count": 20,
     "metadata": {},
     "output_type": "execute_result"
    }
   ],
   "source": [
    "df['new_death'].sum(axis=0)"
   ]
  },
  {
   "cell_type": "markdown",
   "id": "5afcb157",
   "metadata": {},
   "source": [
    "### Data Visualisation"
   ]
  },
  {
   "cell_type": "code",
   "execution_count": 21,
   "id": "5d8b0ad5",
   "metadata": {},
   "outputs": [
    {
     "data": {
      "image/png": "[encoded data removed]",
      "text/plain": [
       "<Figure size 1620x1620 with 90 Axes>"
      ]
     },
     "metadata": {
      "needs_background": "light"
     },
     "output_type": "display_data"
    }
   ],
   "source": [
    "sns.pairplot(data=df); # scatter plotting using all the data"
   ]
  },
  {
   "cell_type": "code",
   "execution_count": 22,
   "id": "e873d263",
   "metadata": {},
   "outputs": [],
   "source": [
    "cases_df = df.sum()"
   ]
  },
  {
   "cell_type": "code",
   "execution_count": 23,
   "id": "ac415641",
   "metadata": {},
   "outputs": [
    {
     "data": {
      "text/plain": [
       "sno                                                               694\n",
       "state_name          Andaman and Nicobar IslandsAndhra PradeshAruna...\n",
       "active                                                        1417820\n",
       "positive                                                     36850962\n",
       "cured                                                        34947390\n",
       "death                                                          485841\n",
       "new_active                                                    1550377\n",
       "new_positive                                                 37122164\n",
       "new_cured                                                    35085721\n",
       "new_death                                                      486066\n",
       "death_reconsille                                                   89\n",
       "total                               144830477477106232222238211232439\n",
       "state_code          3528121810042226073024060201202932373123271417...\n",
       "dtype: object"
      ]
     },
     "execution_count": 23,
     "metadata": {},
     "output_type": "execute_result"
    }
   ],
   "source": [
    "cases_df"
   ]
  },
  {
   "cell_type": "code",
   "execution_count": 24,
   "id": "8dd5e09a",
   "metadata": {},
   "outputs": [],
   "source": [
    "cases_df.drop(['sno', 'state_name', 'state_code'],inplace=True) # dropping the non numeric columns"
   ]
  },
  {
   "cell_type": "code",
   "execution_count": 25,
   "id": "dabf4015",
   "metadata": {},
   "outputs": [
    {
     "data": {
      "text/plain": [
       "active                                        1417820\n",
       "positive                                     36850962\n",
       "cured                                        34947390\n",
       "death                                          485841\n",
       "new_active                                    1550377\n",
       "new_positive                                 37122164\n",
       "new_cured                                    35085721\n",
       "new_death                                      486066\n",
       "death_reconsille                                   89\n",
       "total               144830477477106232222238211232439\n",
       "dtype: object"
      ]
     },
     "execution_count": 25,
     "metadata": {},
     "output_type": "execute_result"
    }
   ],
   "source": [
    "cases_df"
   ]
  },
  {
   "cell_type": "code",
   "execution_count": null,
   "id": "a222b071",
   "metadata": {},
   "outputs": [],
   "source": []
  }
 ],
 "metadata": {
  "kernelspec": {
   "display_name": "Python 3 (ipykernel)",
   "language": "python",
   "name": "python3"
  },
  "language_info": {
   "codemirror_mode": {
    "name": "ipython",
    "version": 3
   },
   "file_extension": ".py",
   "mimetype": "text/x-python",
   "name": "python",
   "nbconvert_exporter": "python",
   "pygments_lexer": "ipython3",
   "version": "3.9.7"
  }
 },
 "nbformat": 4,
 "nbformat_minor": 5
}
